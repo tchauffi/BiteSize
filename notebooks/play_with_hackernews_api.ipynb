{
 "cells": [
  {
   "cell_type": "code",
   "execution_count": 5,
   "metadata": {},
   "outputs": [
    {
     "name": "stdout",
     "output_type": "stream",
     "text": [
      "API is available\n"
     ]
    }
   ],
   "source": [
    "import requests\n",
    "\n",
    "base_url = \"https://hacker-news.firebaseio.com/v0/\"\n",
    "\n",
    "def check_if_avalaible():\n",
    "    response = requests.get(base_url)\n",
    "    if response.status_code == 200:\n",
    "        print(\"API is available\")\n",
    "    else:\n",
    "        print(\"API is not available\")\n",
    "        \n",
    "\n",
    "check_if_avalaible()"
   ]
  },
  {
   "cell_type": "code",
   "execution_count": 18,
   "metadata": {},
   "outputs": [
    {
     "name": "stdout",
     "output_type": "stream",
     "text": [
      "Title: HTTP: , FTP:, and Dict:?\n",
      "URL: https://shkspr.mobi/blog/2024/09/http-ftp-and-dict/\n",
      "Score: 153\n",
      "By: edent\n",
      "Time: 1726659977\n",
      "Descendants: 42\n",
      "\n",
      "Title: Hy 1.0.0, the Lisp dialect for Python, has been released\n",
      "URL: https://github.com/hylang/hy/discussions/2608\n",
      "Score: 24\n",
      "By: Kodiologist\n",
      "Time: 1727016182\n",
      "Descendants: 0\n",
      "\n",
      "Title: Sanding UI\n",
      "URL: https://blog.jim-nielsen.com/2024/sanding-ui/\n",
      "Score: 811\n",
      "By: roosgit\n",
      "Time: 1726947380\n",
      "Descendants: 248\n",
      "\n",
      "Title: The unknowns surrounding the mysterious rise of cancer in young adults\n",
      "URL: https://english.elpais.com/health/2024-09-20/the-unknowns-surrounding-the-mysterious-rise-of-cancer-in-young-adults.html\n",
      "Score: 9\n",
      "By: belter\n",
      "Time: 1727016913\n",
      "Descendants: 1\n",
      "\n",
      "Title: Flappy Bird for Android, only C, under 100KB\n",
      "URL: https://github.com/VadimBoev/FlappyBird\n",
      "Score: 150\n",
      "By: lostmsu\n",
      "Time: 1726979977\n",
      "Descendants: 52\n",
      "\n",
      "Title: Show HN: I built a chatbot to converse with 3M SaaS product reviews\n",
      "Text: Hey HN,<p>I&#x27;m Andrei, and together with my co-founder Roman have been working on a tool called Reviewradar. Working with startups, doing interviews and sifting through endless software reviews are daunting tasks. So, we built a chatbot that lets you chat with over 3 million reviews from more than 100K SaaS products.<p>With Reviewradar, you can ask questions like:<p>- create a comprehensive SWOT analysis for both Notion and Obsidian<p>- give me negative feedback and complaints you have about Postmark<p>- summarise the reviews you have on products in the OCR category<p>I would love to get your feedback on it. Check it out here: <a href=\"https:&#x2F;&#x2F;reviewradar.ai\" rel=\"nofollow\">https:&#x2F;&#x2F;reviewradar.ai</a><p>Looking forward to your thoughts &#x2F; suggestions,<p>Andrei and Roman\n",
      "URL: https://reviewradar.ai/\n",
      "Score: 6\n",
      "By: andreict\n",
      "Time: 1727010258\n",
      "Descendants: 1\n",
      "\n",
      "Title: What happened to the Japanese PC platforms?\n",
      "URL: https://www.mistys-internet.website/blog/blog/2024/09/21/what-happened-to-the-japanese-pc-platforms/\n",
      "Score: 229\n",
      "By: zdw\n",
      "Time: 1726956361\n",
      "Descendants: 138\n",
      "\n",
      "Title: Nextcloud: Open-Source Cloud Apps\n",
      "URL: https://nextcloud.com/\n",
      "Score: 195\n",
      "By: tomrod\n",
      "Time: 1726987821\n",
      "Descendants: 159\n",
      "\n",
      "Title: Machine Learning Model Homotopy\n",
      "URL: https://win-vector.com/2024/09/17/machine-learning-model-homotopy/\n",
      "Score: 33\n",
      "By: jmount\n",
      "Time: 1726608592\n",
      "Descendants: 5\n",
      "\n",
      "Title: Motion (YC W20) Is Hiring a Quant Algo Developer\n",
      "URL: https://jobs.ashbyhq.com/motion/81dfecd7-a15b-424b-8fa2-3704dbacae7a?utm_source=hn\n",
      "Score: 1\n",
      "By: ethanyu94\n",
      "Time: 1727006437\n",
      "\n"
     ]
    }
   ],
   "source": [
    "def get_top_stories(n : int = 10) -> list:\n",
    "    response = requests.get(f\"{base_url}topstories.json?orderBy=\\\"$key\\\"&limitToFirst={n}\")\n",
    "    top_stories = response.json()\n",
    "    return top_stories\n",
    "\n",
    "def get_story(id : int) -> dict:\n",
    "    response = requests.get(f\"{base_url}item/{id}.json\")\n",
    "    story = response.json()\n",
    "    return story\n",
    "\n",
    "top_stories = get_top_stories(10) # get top 10 stories\n",
    "\n",
    "for story_id in top_stories:\n",
    "    story = get_story(story_id)\n",
    "    print(f\"Title: {story['title']}\")\n",
    "    if \"text\" in story:\n",
    "        print(f\"Text: {story['text']}\")\n",
    "    print(f\"URL: {story['url']}\")\n",
    "    print(f\"Score: {story['score']}\")\n",
    "    print(f\"By: {story['by']}\")\n",
    "    print(f\"Time: {story['time']}\")\n",
    "    if 'descendants' in story:\n",
    "        print(f\"Descendants: {story['descendants']}\")\n",
    "    print()"
   ]
  },
  {
   "cell_type": "code",
   "execution_count": 16,
   "metadata": {},
   "outputs": [
    {
     "data": {
      "text/plain": [
       "{'by': 'andreict',\n",
       " 'descendants': 1,\n",
       " 'id': 41616763,\n",
       " 'kids': [41617602],\n",
       " 'score': 4,\n",
       " 'text': 'Hey HN,<p>I&#x27;m Andrei, and together with my co-founder Roman have been working on a tool called Reviewradar. Working with startups, doing interviews and sifting through endless software reviews are daunting tasks. So, we built a chatbot that lets you chat with over 3 million reviews from more than 100K SaaS products.<p>With Reviewradar, you can ask questions like:<p>- create a comprehensive SWOT analysis for both Notion and Obsidian<p>- give me negative feedback and complaints you have about Postmark<p>- summarise the reviews you have on products in the OCR category<p>I would love to get your feedback on it. Check it out here: <a href=\"https:&#x2F;&#x2F;reviewradar.ai\" rel=\"nofollow\">https:&#x2F;&#x2F;reviewradar.ai</a><p>Looking forward to your thoughts &#x2F; suggestions,<p>Andrei and Roman',\n",
       " 'time': 1727010258,\n",
       " 'title': 'Show HN: I built a chatbot to converse with 3M SaaS product reviews',\n",
       " 'type': 'story',\n",
       " 'url': 'https://reviewradar.ai/'}"
      ]
     },
     "execution_count": 16,
     "metadata": {},
     "output_type": "execute_result"
    }
   ],
   "source": [
    "story"
   ]
  },
  {
   "cell_type": "code",
   "execution_count": null,
   "metadata": {},
   "outputs": [],
   "source": []
  }
 ],
 "metadata": {
  "kernelspec": {
   "display_name": "bitesize_env",
   "language": "python",
   "name": "python3"
  },
  "language_info": {
   "codemirror_mode": {
    "name": "ipython",
    "version": 3
   },
   "file_extension": ".py",
   "mimetype": "text/x-python",
   "name": "python",
   "nbconvert_exporter": "python",
   "pygments_lexer": "ipython3",
   "version": "3.10.15"
  }
 },
 "nbformat": 4,
 "nbformat_minor": 2
}
